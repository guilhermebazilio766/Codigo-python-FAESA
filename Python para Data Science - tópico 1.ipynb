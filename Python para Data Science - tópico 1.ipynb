
Resumo:
Respostas pendentes da aula
Criação de janela de seleção de arquivos
Modificação de semente de geração de números pseudoaleatórios com NumPy
Bate papo ao vivo
Python puro
Variáveis e atribuições
Expressões aritméticas
Ordem de precedência
Tipos
Strings
Formatação
Escrita e leitra
if, elif e else
while e while-else
for e for-else
Aula presencial
Python puro (continuação)
for (continuação)
Coleções
Listas
Tuplas
Conjuntos
Dicionários
Métodos
Unpacking
is
Funções
Map
Filter
Lambda
Arquivos
Tratamento de exceções
NumPy
Criação de arrays
Propriedades de arrays
Tipos de dados do NumPy
Indexamento
Simples
Fatiamento
Sofisticado
Booleano
Filtrando dados
Views
Funções unitárias
Funções binárias
Funções estatísticas
Ordenação
Funções algébricas
Persistência em disco
Não deixe de conferir o ensaio acadêmico, os slides do ava e os links no saiba mais!
Respostas pendentes da aula:
Seletor de arquivos
Existem várias bibliotecas para criação de interfaces gráficas em Python (Kivy, PyQT, TKinter, WxPython, PyGUI, PySide, etc.) que são a chave para exibir uma janela de seleção de arquivos. A mais simples para este fim e que não exige outras dependências é, provavelmente, a TKinter. Os passos para realizar esta tarefa com a TKinter no Jupyter são:

Importar a biblioteca
Instanciar o módulo
Esconder a janela principal, visto que só temos interesse na seleção de arquivos
Trazer a janela para o topo, isto é, sobre o navegador
Chamar o método askopenfilename
Podemos usar o parâmetro booleano opcional "multiple" para permitir ou não a seleção de vários arquivos.
O retorno é uma tupla de strings com os nomes dos arquivos selecionados
Usar o comando do IPython "%gui tk" para ativar a exibição de interfaces gráficas
Usar o comando do IPythn "%gui inline" para voltar ao modo inline
In [14]:
# Importação:
from tkinter import*
# Instanciação:
root = Tk()
# Esconder janela principal:
root.withdraw()
# Trazer janela para o topo
root.call('wm', 'attributes', '.', '-topmost', True)

# Chamar o método askopenfilename
from tkinter import filedialog
infiles = filedialog.askopenfilename(multiple=True)

# Ativando a exibição de interfaces gráficas
%gui tk
# Voltar ao modo inline
%gui inline

print(infiles)
('C:/Users/Henri/OneDrive/Documentos/Documento.docx', 'C:/Users/Henri/OneDrive/Documentos/E_BOOK_100_Receitas_de_Cerveja_Fácil_2019.pdf', 'C:/Users/Henri/OneDrive/Documentos/The C Programming Language.pdf')
Sementes de geração de números aleatórios
A geração de números aleatórios (na verdade, pseudoaleatórios) utiliza um número que chamamos de semente. A partir de sementes diferentes, obtém-se números aleatórios diferentes, o que pode ser necessário para evitar que os mesmos números que deviam ser aleatórios sejam obtidos em toda execução. Ao lidar com o NumPy, o comando para alterar a semente é:

In [1]:
import numpy as np
np.random.seed(1234)
Onde 1234 é a semente escolhida. O "problema" é que a semente em questão é global. Se quisermos definir uma semente para uma geração específica utilizamos o seguinte método:

In [2]:
# instanciamos um gerador de números aleatórios com a nossa semente:
rng = np.random.RandomState(1234)
# utilizamos os métodos de geração de números aleatórios do numpy a partir do nosso gerador:
rng.randn(10)
Out[2]:
array([ 0.47143516, -1.19097569,  1.43270697, -0.3126519 , -0.72058873,
        0.88716294,  0.85958841, -0.6365235 ,  0.01569637, -2.24268495])
O NumPy possui vários métodos de geração de números (pseudo)aleatórios:

Método	Descrição
seed	Fornece uma semente ao gerador de números aleatórios
permutation	Devolve uma permutação aleatória de uma sequência ou um intervalo permutado
shuffle	Permuta aleatoriamente uma sequência in-place
rand	Sorteia amostras de uma distribuição uniforme
randint	Sorteia inteiros aleatórios de um dado intervalo de valores menores para maiores
randn	Sorteia amostras de uma distribuição normal com média 0 e desviopadrão 1 (interface do tipo MATLAB)
binomial	Sorteia amostras de uma distribuição binomial
normal	Sorteia amostras de uma distribuição normal (gaussiana)
beta	Sorteia amostras de uma distribuição beta
chisquare	Sorteia amostras de uma distribuição qui-quadrada
gamma	Sorteia amostras de uma distribuição gama
uniform	Sorteia amostras de uma distribuição uniforme [0, 1)
Bate Papo ao vivo 1:
Criação de variáveis e atribuições
In [25]:
variável_1 = 42_000.00 # podemos usar letras, números e underscores

variável_1
Out[25]:
42000.0
In [20]:
1_variável = 42 # só não podemos começar com um número
  File "<ipython-input-20-70de4efd5f61>", line 1
    1_variável = 42 # só não podemos começar com um número
     ^
SyntaxError: invalid decimal literal
In [21]:
import = 42 # nem usar uma palavra reservada como nome de variável
  File "<ipython-input-21-965212c03cd8>", line 1
    import = 42 # nem usar uma palavra reservada como nome de variável
           ^
SyntaxError: invalid syntax
In [13]:
a,b,c = 1,2,3

print(a); print(b); print(c)
1
2
3
Ordem de precedência:
Parênteses
Potências (**)
Multiplicações, divisões, divisões inteiras (//) e resto (%)
Soma
In [18]:
var = 7*3**2%4

var
Out[18]:
3
In [23]:
var += 70
var *= 20
var /= 10
var -= 50
Tipos
In [31]:
print(type(42))
print(type(42.0))
print(type(42+1j))
print(type('42'))
print(type("42"))
print(type(True))
print(type((42,)))
print(type([42]))
print(type({42}))
print(type({'a':42}))
<class 'int'>
<class 'float'>
<class 'complex'>
<class 'str'>
<class 'str'>
<class 'bool'>
<class 'tuple'>
<class 'list'>
<class 'set'>
<class 'dict'>
In [37]:
a = '42'

a = int(a) # tipo(dado) retorna dado convertido para tipo

a
Out[37]:
42
Strings
In [60]:
a = 'Henr' + "ique"

a
Out[60]:
'Henrique'
In [58]:
a[1:8:2] # do caracter 1 ao 8 (exceto), contando a partir de 0, de 2 em 2
Out[58]:
'erqe'
In [59]:
a[::-1] # do início até o fim, de trás pra frente
Out[59]:
'euqirneH'
In [35]:
a[5] = 'W' # strings são imutáveis!
---------------------------------------------------------------------------
TypeError                                 Traceback (most recent call last)
<ipython-input-35-a078a69387dd> in <module>
----> 1 a[5] = 'W'

TypeError: 'str' object does not support item assignment
In [36]:
len(a)
Out[36]:
8
In [40]:
a.find('u') # u é o caracter de índice 6
Out[40]:
6
In [41]:
a.find('w') # w não consta
Out[41]:
-1
In [42]:
a.replace('e','a')
Out[42]:
'Hanriqua'
In [44]:
a = 'henrique gomes de jesus'

a.split(' ')
Out[44]:
['henrique', 'gomes', 'de', 'jesus']
In [45]:
print(a.upper())
print(a.lower())
HENRIQUE GOMES DE JESUS
henrique gomes de jesus
In [54]:
idade = 50
altura = 1.9

print("idade: {}, altura: {}".format(idade,altura))
print("idade: {0}, altura: {1}".format(idade,altura))
print("idade: {0:<10}, altura: {1:.2f}".format(idade,altura))
print("idade: {:>10}, altura: {:.2f}".format(idade,altura))
print("idade: {:^10}, altura: {:.2f}".format(idade,altura))
print("porcentagem: {:.2%}".format(.5))
idade: 50, altura: 1.9
idade: 50, altura: 1.9
idade: 50        , altura: 1.90
idade:         50, altura: 1.90
idade:     50    , altura: 1.90
porcentagem: 50.00%
In [56]:
idade = 50
altura = 1.9

print(f"idade: {idade}, altura: {altura}")
print(f"idade: {idade}, altura: {altura}")
print(f"idade: {idade:<10}, altura: {altura:.2f}")
print(f"idade: {idade:>10}, altura: {altura:.2f}")
print(f"idade: {idade:^10}, altura: {altura:.2f}")
print(f"porcentagem: {.5:.2%}")
idade: 50, altura: 1.9
idade: 50, altura: 1.9
idade: 50        , altura: 1.90
idade:         50, altura: 1.90
idade:     50    , altura: 1.90
porcentagem: 50.00%
Leitura
In [24]:
var = input("Insira um número")
IF
In [ ]:
a = input("Insira sua idade")

if (a >= 18):
    print("Você é maior de idade")
elif (a == 17):
    print("Você está prestes a se tornar maior de idade")
else:
    print("Você tem menos de 17 anos ainda")
Diferença entre dois ifs e if-else:
In [72]:
a = 15

if (a > 5):
    a = 0
    print("Condição 1")
if (a <= 5):
    print("Condição 2")
Condição 1
Condição 2
In [74]:
a = 15

if (a > 5):
    a = 0
    print("Condição 1")
else:
    # O inverso da condição a > 5 é verdade, mas como entramos no if, não entraremos no else
    print("Condição 2")
Condição 1
In [ ]:
s = 'maior' if a > 18 else 'menor'
WHILE
In [64]:
cont = 10

while(cont > 0):
    print(f"{cont}!!")
    cont -= 1
else:
    print("Feliz ano novo!!!")
10!!
9!!
8!!
7!!
6!!
5!!
4!!
3!!
2!!
1!!
Feliz ano novo!!!
FOR
In [65]:
lista = ['adamastor','brunício','cleiton']

for i in lista:
    print(i.upper())
ADAMASTOR
BRUNÍCIO
CLEITON
Aula presencial
For (continuação)
In [69]:
for i in range(10,20,2):
    print(i)
else:
    print("Se ocorresse break, isso aqui não seria impresso")
10
12
14
16
18
Se ocorresse break, isso aqui não seria impresso
In [70]:
lista2 = [('adamastor',10),('brunício',20),('cleiton',30)]

for nome,idade in lista2:
    print(f"{nome} tem {idade} anos")
adamastor tem 10 anos
brunício tem 20 anos
cleiton tem 30 anos
In [71]:
nomes = ['adamastor','brunício','cleiton']
idades = [10,20,30]

for nome,idade in zip(nomes,idades):
    print(f"{nome} tem {idade} anos")
adamastor tem 10 anos
brunício tem 20 anos
cleiton tem 30 anos
In [280]:
lista = ["Arnaldo","Bruno","Carlos"]

for i in range(len(lista)):
    print(f"{i+1}º pessoa é {lista[i]}")
1º pessoa é Arnaldo
2º pessoa é Bruno
3º pessoa é Carlos
Coleções
Lista
Tuplas
Conjuntos
Dicionários
Listas
In [282]:
nomes = ["Henrique","Luiz","Adamastor"]
números = [1,2,3,4]
dados = ["Henrique",5,5.0]
lista = ["Henrique",42,[1,2,3]]
In [283]:
dados[1]
Out[283]:
5
In [284]:
nomes + números
Out[284]:
['Henrique', 'Luiz', 'Adamastor', 1, 2, 3, 4]
In [285]:
nomes*3
Out[285]:
['Henrique',
 'Luiz',
 'Adamastor',
 'Henrique',
 'Luiz',
 'Adamastor',
 'Henrique',
 'Luiz',
 'Adamastor']
In [286]:
'Henrique' in nomes
Out[286]:
True
In [287]:
'Adalberto' in nomes
Out[287]:
False
In [293]:
nomes.append('Daniel')
In [294]:
nomes
Out[294]:
['Henrique', 'Luiz', 'Adamastor', 'Daniel']
In [295]:
nomes.remove("Daniel")

nomes
Out[295]:
['Henrique', 'Luiz', 'Adamastor']
In [296]:
nomes.pop(1)

nomes
Out[296]:
['Henrique', 'Adamastor']
In [315]:
nomes.sort()

nomes[::-1]
Out[315]:
['Henrique', 'Adamastor']
In [317]:
type(nomes)
Out[317]:
list
In [301]:
len(nomes)
Out[301]:
2
In [306]:
x = nomes.count("Adamastor")

x
Out[306]:
1
In [1]:
números = [6,7,8,9,10,1,2,3,4,5]

números.sort()

números[::-1]
Out[1]:
[10, 9, 8, 7, 6, 5, 4, 3, 2, 1]
In [322]:
a = ["Daniel","Fernando","Gabriel"]

a.sort()

a[::-1]
Out[322]:
['Gabriel', 'Fernando', 'Daniel']
Tuplas
In [323]:
a = (1,2,3)

a
Out[323]:
(1, 2, 3)
In [324]:
a[1] = 5
---------------------------------------------------------------------------
TypeError                                 Traceback (most recent call last)
<ipython-input-324-8274b6782611> in <module>
----> 1 a[1] = 5

TypeError: 'tuple' object does not support item assignment
In [329]:
(42,)
Out[329]:
(42,)
Conjuntos
In [332]:
a = {1,2,3,4,2}

a
Out[332]:
{1, 2, 3, 4}
In [334]:
a.add(5)

a
Out[334]:
{1, 2, 3, 4, 5}
In [335]:
a.remove(5)

a
Out[335]:
{1, 2, 3, 4}
In [336]:
b = {10,11,12}

a.union(b)
Out[336]:
{1, 2, 3, 4, 10, 11, 12}
In [337]:
a | b
Out[337]:
{1, 2, 3, 4, 10, 11, 12}
In [338]:
c = {3,4,5,6}

a & c
Out[338]:
{3, 4}
In [339]:
c.intersection(a)
Out[339]:
{3, 4}
In [340]:
a.difference(c)
Out[340]:
{1, 2}
In [341]:
a - c
Out[341]:
{1, 2}
In [342]:
a.symmetric_difference(c)
Out[342]:
{1, 2, 5, 6}
In [343]:
a ^ c
Out[343]:
{1, 2, 5, 6}
Dicionários
In [344]:
d = {"nome":"Henrique", "idade":27, "cidade":"Marechal Floriano"}

d
Out[344]:
{'nome': 'Henrique', 'idade': 27, 'cidade': 'Marechal Floriano'}
In [345]:
d["nome"]
Out[345]:
'Henrique'
In [346]:
d["idade"]
Out[346]:
27
In [348]:
e = {"idade":28, "estado":"ES"}

d.update(e)

d
Out[348]:
{'nome': 'Henrique',
 'idade': 28,
 'cidade': 'Marechal Floriano',
 'estado': 'ES'}
In [349]:
d.values()
Out[349]:
dict_values(['Henrique', 28, 'Marechal Floriano', 'ES'])
In [350]:
d.keys()
Out[350]:
dict_keys(['nome', 'idade', 'cidade', 'estado'])
In [351]:
d.items()
Out[351]:
dict_items([('nome', 'Henrique'), ('idade', 28), ('cidade', 'Marechal Floriano'), ('estado', 'ES')])
Métodos
In [353]:
sum(números)
Out[353]:
55
In [354]:
max(números)
Out[354]:
10
In [355]:
min(números)
Out[355]:
1
Unpacking
In [356]:
a = (2,4,9)

q,w,e = a
In [357]:
q
Out[357]:
2
In [358]:
w
Out[358]:
4
In [359]:
e
Out[359]:
9
is
In [360]:
lista1 = [1,2,3]
lista2 = [1,2,3]

lista1==lista2
Out[360]:
True
In [361]:
lista1 is lista2
Out[361]:
False
In [362]:
lista1.append(4)
In [365]:
lista1
Out[365]:
[1, 2, 3, 4]
In [364]:
lista2
Out[364]:
[1, 2, 3]
In [366]:
lista3 = lista2
In [367]:
lista2
Out[367]:
[1, 2, 3]
In [368]:
lista3
Out[368]:
[1, 2, 3]
In [369]:
lista2.append(42)
In [370]:
lista2
Out[370]:
[1, 2, 3, 42]
In [371]:
lista3
Out[371]:
[1, 2, 3, 42]
In [372]:
lista2 == lista3
Out[372]:
True
In [373]:
lista2 is lista3
Out[373]:
True
In [374]:
a = 1
b = 1

a is b
Out[374]:
True
In [375]:
id(lista2)
Out[375]:
2640600899008
In [376]:
id(lista3)
Out[376]:
2640600899008
In [377]:
id(lista1)
Out[377]:
2640600714624
Abrangências / Comprehension
In [379]:
lista1 = [1,2,3]

[x_*x_ for x_ in lista1]
Out[379]:
[1, 4, 9]
In [380]:
lista2 = [x*x for x in range(100)]

lista2
Out[380]:
[0,
 1,
 4,
 9,
 16,
 25,
 36,
 49,
 64,
 81,
 100,
 121,
 144,
 169,
 196,
 225,
 256,
 289,
 324,
 361,
 400,
 441,
 484,
 529,
 576,
 625,
 676,
 729,
 784,
 841,
 900,
 961,
 1024,
 1089,
 1156,
 1225,
 1296,
 1369,
 1444,
 1521,
 1600,
 1681,
 1764,
 1849,
 1936,
 2025,
 2116,
 2209,
 2304,
 2401,
 2500,
 2601,
 2704,
 2809,
 2916,
 3025,
 3136,
 3249,
 3364,
 3481,
 3600,
 3721,
 3844,
 3969,
 4096,
 4225,
 4356,
 4489,
 4624,
 4761,
 4900,
 5041,
 5184,
 5329,
 5476,
 5625,
 5776,
 5929,
 6084,
 6241,
 6400,
 6561,
 6724,
 6889,
 7056,
 7225,
 7396,
 7569,
 7744,
 7921,
 8100,
 8281,
 8464,
 8649,
 8836,
 9025,
 9216,
 9409,
 9604,
 9801]
In [383]:
d = {i:2*i for i in range(10)}

d
Out[383]:
{0: 0, 1: 2, 2: 4, 3: 6, 4: 8, 5: 10, 6: 12, 7: 14, 8: 16, 9: 18}
In [389]:
nomes = ['Arnaldo',"Bernardo","Carlito"]
idades = [15,20,22]

{nome:idade for nome,idade in zip(nomes,idades)}
Out[389]:
{'Arnaldo': 15, 'Bernardo': 20, 'Carlito': 22}
Funções
In [400]:
def calculaDobro(x):
    dobro = 2*x
    return dobro

calculaDobro(10)
Out[400]:
20
In [401]:
def calculaSoma(a,b):
    soma = a+b
    return soma

calculaSoma(10,5)
Out[401]:
15
In [403]:
def incrementa(a,i=1):
    incremento = a+i
    return incremento

print(incrementa(10,5))
print(incrementa(10))
15
11
In [404]:
incrementa(15, i=20)
Out[404]:
35
In [3]:
def aumenta(a=[]):
    return a
In [4]:
b = aumenta()
In [5]:
b.append(1)
In [6]:
b
Out[6]:
[1]
In [7]:
b = aumenta()
In [8]:
b.append(1)
In [9]:
b
Out[9]:
[1, 1]
In [422]:
def aumenta(a=None):
    if (a == None):
        a = []
    return a
In [423]:
b = aumenta()
In [424]:
b.append(1)
In [425]:
b
Out[425]:
[1]
In [426]:
b = aumenta()
In [427]:
b.append(1)
In [428]:
b
Out[428]:
[1]
In [429]:
def função():
    return 1,2,3
In [434]:
função()
Out[434]:
(1, 2, 3)
In [430]:
a,b,c = função()
In [431]:
a
Out[431]:
1
In [432]:
b
Out[432]:
2
In [433]:
c
Out[433]:
3
In [435]:
f = função
In [436]:
f()
Out[436]:
(1, 2, 3)
In [438]:
def executa(f):
    return f()
    
executa(função)
Out[438]:
(1, 2, 3)
In [444]:
def função(x):
    return x*x

lista = [40, 41, 42]

set(map(função,lista))
Out[444]:
{1600, 1681, 1764}
In [447]:
def soma(a,b):
    return a+b

lista1 = [40, 41, 42]
lista2 = [10, 20, 30]

set(map(soma,lista1,lista2))
Out[447]:
{50, 61, 72}
In [448]:
def checa(x):
    return x>0

lista3 = [-2,-1,0,1,2]

list(filter(checa,lista3))
Out[448]:
[1, 2]
In [449]:
list(filter(lambda x:x>0,lista3))
Out[449]:
[1, 2]
In [450]:
f = lambda x:x>0
In [451]:
f(-2)
Out[451]:
False
In [452]:
checa(-2)
Out[452]:
False
In [453]:
import math

math.floor(1.5)
Out[453]:
1
In [454]:
lista4 = [1.5, 2.3, 3.4]

list(map(lambda x:math.floor(x),lista4))
Out[454]:
[1, 2, 3]
In [456]:
lista5 = []

for i in lista4:
    lista5.append(math.floor(i))
    
lista5
Out[456]:
[1, 2, 3]
In [457]:
[math.floor(x) for x in lista4]
Out[457]:
[1, 2, 3]
In [459]:
import math

math.floor(1.5)
Out[459]:
1
In [460]:
import math as matemática

matemática.floor(1.5)
Out[460]:
1
In [463]:
from math import floor

math.floor(1.5)
Out[463]:
1
In [464]:
from math import floor as arredonda

arredonda(1.5)
Out[464]:
1
In [465]:
math.ceil(1.5)
Out[465]:
2
In [468]:
x = 1.12345

math.floor(x*1000)/1000
Out[468]:
1.123
In [469]:
x*1000
Out[469]:
1123.45
In [470]:
math.floor(x*1000)
Out[470]:
1123
In [471]:
math.floor(x*1000)/1000
Out[471]:
1.123
Arquivos
In [474]:
a = open('file.txt','w')
a.write("Olá \n")
a.write("mundo\n")
a.close()
In [477]:
a = open('file.txt','r')
for linha in a:
    print(linha,end="")
a.close()
Olá 
mundo
In [478]:
a = open('file.txt','w')
a.write("Python \n")
a.write("para Data Science\n")
a.close()
In [479]:
a = open('file.txt','r')
for linha in a:
    print(linha,end="")
a.close()
Python 
para Data Science
In [480]:
a = open('file.txt','a')
a.write("Junho \n")
a.write("de 2021\n")
a.close()
In [481]:
a = open('file.txt','r')
for linha in a:
    print(linha,end="")
a.close()
Python 
para Data Science
Junho 
de 2021
In [484]:
with open('file.txt','w') as a:
    a.write("Olá \\n")
    a.write("mundo\\n")
In [485]:
with open('file.txt','r') as a:
    for linha in a:
        print(linha,end="")
Olá \nmundo\n
In [493]:
with open('file.csv','w') as a:
    a.write("Nome,Idade,Altura\n")
    a.write("Henrique,99,1.7\n")
    a.write("Alex,5,1.4")
In [494]:
with open('file.csv','r') as a:
    for linha in a:
        print(linha,end="")
Nome,Idade,Altura
Henrique,99,1.7
Alex,5,1.4
Leitura CSV com pandas (foreshadowing)
In [496]:
import pandas as pd

df = pd.read_csv('file.csv',delimiter=",")

df
Out[496]:
Nome	Idade	Altura
0	Henrique	99	1.7
1	Alex	5	1.4
In [501]:
df.set_index('Nome', inplace=True)
In [503]:
df.loc['Alex','Altura']
Out[503]:
1.4
Arredondamentos para número mais próximo
In [504]:
round(1.5)
Out[504]:
2
In [506]:
round(2.5)
Out[506]:
2
In [509]:
x = 1.5

int(x+.5)
Out[509]:
2
In [510]:
x = 2.5

int(x+.5)
Out[510]:
3
Tratamento de exceções
In [511]:
def divideUmPor(x):
    return 1/x

divideUmPor(2)
Out[511]:
0.5
In [512]:
divideUmPor(0)
---------------------------------------------------------------------------
ZeroDivisionError                         Traceback (most recent call last)
<ipython-input-512-9d07a9936ede> in <module>
----> 1 divideUmPor(0)

<ipython-input-511-a56faedecbeb> in divideUmPor(x)
      1 def divideUmPor(x):
----> 2     return 1/x
      3 
      4 divideUmPor(2)

ZeroDivisionError: division by zero
In [526]:
n = input("Insira um número")

try:
    divideUmPor(int(n))
except ZeroDivisionError:
    print("Não divida por zero")
except ValueError as e:
    if (str(e).find('invalid literal for int() with base 10:') > -1):
        print("Escreva um número")
    else:
        print("Ocorreu um erro genérico")
except:
    print("Erro")
Escreva um número
In [528]:
try:
    f = open('aaaaaaaa.txt','r')
except FileNotFoundError:
    print("Arquivo não encontrado")
except PermissionError:
    print("Acesso negado")
Arquivo não encontrado
In [532]:
f = open("aaa.odf",'w')
---------------------------------------------------------------------------
PermissionError                           Traceback (most recent call last)
<ipython-input-532-8decefedf22a> in <module>
----> 1 f = open("aaa.odf",'w')

PermissionError: [Errno 13] Permission denied: 'aaa.odf'
NumPy
In [561]:
import numpy as np

%time sum(list(range(1_000_000)))
%time np.sum(np.arange(1_000_000,dtype='u4'))
Wall time: 55.9 ms
Wall time: 2.99 ms
Out[561]:
1783293664
In [564]:
np.zeros([5,5])
Out[564]:
array([[0., 0., 0., 0., 0.],
       [0., 0., 0., 0., 0.],
       [0., 0., 0., 0., 0.],
       [0., 0., 0., 0., 0.],
       [0., 0., 0., 0., 0.]])
In [565]:
np.ones([5,5])
Out[565]:
array([[1., 1., 1., 1., 1.],
       [1., 1., 1., 1., 1.],
       [1., 1., 1., 1., 1.],
       [1., 1., 1., 1., 1.],
       [1., 1., 1., 1., 1.]])
In [566]:
np.empty([5,5])
Out[566]:
array([[1., 1., 1., 1., 1.],
       [1., 1., 1., 1., 1.],
       [1., 1., 1., 1., 1.],
       [1., 1., 1., 1., 1.],
       [1., 1., 1., 1., 1.]])
In [567]:
np.full([5,5],42)
Out[567]:
array([[42, 42, 42, 42, 42],
       [42, 42, 42, 42, 42],
       [42, 42, 42, 42, 42],
       [42, 42, 42, 42, 42],
       [42, 42, 42, 42, 42]])
In [581]:
a = np.zeros([3,5])
a
Out[581]:
array([[0., 0., 0., 0., 0.],
       [0., 0., 0., 0., 0.],
       [0., 0., 0., 0., 0.]])
In [569]:
a.dtype
Out[569]:
dtype('float64')
In [582]:
a.ndim
Out[582]:
2
In [583]:
a.shape
Out[583]:
(3, 5)
In [584]:
a.size
Out[584]:
15
In [585]:
a.itemsize
Out[585]:
8
In [587]:
np.zeros_like(a)
Out[587]:
array([[0., 0., 0., 0., 0.],
       [0., 0., 0., 0., 0.],
       [0., 0., 0., 0., 0.]])
In [586]:
np.ones_like(a)
Out[586]:
array([[1., 1., 1., 1., 1.],
       [1., 1., 1., 1., 1.],
       [1., 1., 1., 1., 1.]])
In [588]:
np.empty_like(a)
Out[588]:
array([[0., 0., 0., 0., 0.],
       [0., 0., 0., 0., 0.],
       [0., 0., 0., 0., 0.]])
In [589]:
np.full_like(a,42)
Out[589]:
array([[42., 42., 42., 42., 42.],
       [42., 42., 42., 42., 42.],
       [42., 42., 42., 42., 42.]])
In [590]:
np.zeros([3,5],dtype=np.float32)
Out[590]:
array([[0., 0., 0., 0., 0.],
       [0., 0., 0., 0., 0.],
       [0., 0., 0., 0., 0.]], dtype=float32)
In [592]:
np.zeros([3,5],dtype='f4')
Out[592]:
array([[0., 0., 0., 0., 0.],
       [0., 0., 0., 0., 0.],
       [0., 0., 0., 0., 0.]], dtype=float32)
In [591]:
np.zeros([3,5],dtype=np.float64)
Out[591]:
array([[0., 0., 0., 0., 0.],
       [0., 0., 0., 0., 0.],
       [0., 0., 0., 0., 0.]])
In [593]:
np.zeros([3,5],dtype='f8')
Out[593]:
array([[0., 0., 0., 0., 0.],
       [0., 0., 0., 0., 0.],
       [0., 0., 0., 0., 0.]])
In [594]:
np.zeros([3,5],dtype=np.int32)
Out[594]:
array([[0, 0, 0, 0, 0],
       [0, 0, 0, 0, 0],
       [0, 0, 0, 0, 0]])
In [595]:
np.zeros([3,5],dtype='i4')
Out[595]:
array([[0, 0, 0, 0, 0],
       [0, 0, 0, 0, 0],
       [0, 0, 0, 0, 0]])
In [596]:
np.zeros([3,5],dtype=np.int64)
Out[596]:
array([[0, 0, 0, 0, 0],
       [0, 0, 0, 0, 0],
       [0, 0, 0, 0, 0]], dtype=int64)
In [597]:
np.zeros([3,5],dtype='i8')
Out[597]:
array([[0, 0, 0, 0, 0],
       [0, 0, 0, 0, 0],
       [0, 0, 0, 0, 0]], dtype=int64)
In [598]:
np.zeros([3,5],dtype='u8')
Out[598]:
array([[0, 0, 0, 0, 0],
       [0, 0, 0, 0, 0],
       [0, 0, 0, 0, 0]], dtype=uint64)
In [599]:
np.zeros([3,5],dtype=np.object)
Out[599]:
array([[0, 0, 0, 0, 0],
       [0, 0, 0, 0, 0],
       [0, 0, 0, 0, 0]], dtype=object)
In [600]:
np.zeros([3,5],dtype='O')
Out[600]:
array([[0, 0, 0, 0, 0],
       [0, 0, 0, 0, 0],
       [0, 0, 0, 0, 0]], dtype=object)
In [601]:
np.zeros([3,5],dtype=np.string_)
Out[601]:
array([[b'', b'', b'', b'', b''],
       [b'', b'', b'', b'', b''],
       [b'', b'', b'', b'', b'']], dtype='|S1')
In [602]:
np.zeros([3,5],dtype='S')
Out[602]:
array([[b'', b'', b'', b'', b''],
       [b'', b'', b'', b'', b''],
       [b'', b'', b'', b'', b'']], dtype='|S1')
In [603]:
np.zeros([3,5],dtype=np.complex64)
Out[603]:
array([[0.+0.j, 0.+0.j, 0.+0.j, 0.+0.j, 0.+0.j],
       [0.+0.j, 0.+0.j, 0.+0.j, 0.+0.j, 0.+0.j],
       [0.+0.j, 0.+0.j, 0.+0.j, 0.+0.j, 0.+0.j]], dtype=complex64)
In [604]:
np.zeros([3,5],dtype='c8')
Out[604]:
array([[0.+0.j, 0.+0.j, 0.+0.j, 0.+0.j, 0.+0.j],
       [0.+0.j, 0.+0.j, 0.+0.j, 0.+0.j, 0.+0.j],
       [0.+0.j, 0.+0.j, 0.+0.j, 0.+0.j, 0.+0.j]], dtype=complex64)
In [605]:
np.zeros([3,5],dtype=np.bool)
Out[605]:
array([[False, False, False, False, False],
       [False, False, False, False, False],
       [False, False, False, False, False]])
In [606]:
np.zeros([3,5],dtype='?')
Out[606]:
array([[False, False, False, False, False],
       [False, False, False, False, False],
       [False, False, False, False, False]])
In [609]:
np.arange(5,10,2)
Out[609]:
array([5, 7, 9])
In [611]:
np.array([1,2,3],dtype='f8')
Out[611]:
array([1., 2., 3.])
In [614]:
b = np.asarray(a)
In [615]:
a is b
Out[615]:
True
In [616]:
a[1,1] = 42

a
Out[616]:
array([[ 0.,  0.,  0.,  0.,  0.],
       [ 0., 42.,  0.,  0.,  0.],
       [ 0.,  0.,  0.,  0.,  0.]])
In [617]:
b
Out[617]:
array([[ 0.,  0.,  0.,  0.,  0.],
       [ 0., 42.,  0.,  0.,  0.],
       [ 0.,  0.,  0.,  0.,  0.]])
In [620]:
a = a.copy()
In [621]:
a is b
Out[621]:
False
In [623]:
np.eye(3)
Out[623]:
array([[1., 0., 0.],
       [0., 1., 0.],
       [0., 0., 1.]])
In [624]:
np.identity(3)
Out[624]:
array([[1., 0., 0.],
       [0., 1., 0.],
       [0., 0., 1.]])
In [626]:
np.random.rand(3,5)*10
Out[626]:
array([[5.83829243, 1.65656066, 3.52078919, 3.37112076, 8.82142786],
       [3.65844622, 9.55510305, 7.82092762, 5.90606137, 3.7604019 ],
       [3.46266062, 7.71743474, 1.52045807, 3.18005402, 9.09204634]])
In [627]:
np.random.randint(0,10,[3,5])
Out[627]:
array([[6, 8, 0, 4, 4],
       [9, 3, 3, 6, 1],
       [6, 8, 1, 4, 4]])
In [632]:
a = a.astype(np.int32)
In [633]:
a
Out[633]:
array([[ 0,  0,  0,  0,  0],
       [ 0, 42,  0,  0,  0],
       [ 0,  0,  0,  0,  0]])
In [634]:
a = np.array([[1,2],[3,4]])
b = np.array([[10,10],[20,20]])
In [635]:
a
Out[635]:
array([[1, 2],
       [3, 4]])
In [636]:
b
Out[636]:
array([[10, 10],
       [20, 20]])
In [637]:
a + b
Out[637]:
array([[11, 12],
       [23, 24]])
In [638]:
a + 1
Out[638]:
array([[2, 3],
       [4, 5]])
In [639]:
a * b
Out[639]:
array([[10, 20],
       [60, 80]])
In [640]:
a @ b
Out[640]:
array([[ 50,  50],
       [110, 110]])
In [643]:
c = np.array([5,10])

c
Out[643]:
array([ 5, 10])
In [644]:
a + c
Out[644]:
array([[ 6, 12],
       [ 8, 14]])
In [645]:
d = np.array([1,2,3])
e = np.array([1,2])

d+e
---------------------------------------------------------------------------
ValueError                                Traceback (most recent call last)
<ipython-input-645-6be30d89f674> in <module>
      2 e = np.array([1,2])
      3 
----> 4 d+e

ValueError: operands could not be broadcast together with shapes (3,) (2,) 
In [648]:
a > b
Out[648]:
array([[False, False],
       [False, False]])
In [649]:
a == b
Out[649]:
array([[False, False],
       [False, False]])
Formas de indexamento
In [652]:
a = np.random.randint(0,10,[10,10])

a
Out[652]:
array([[2, 5, 0, 5, 3, 6, 9, 8, 3, 4],
       [2, 8, 7, 6, 3, 3, 0, 8, 1, 6],
       [0, 3, 6, 5, 6, 5, 2, 1, 2, 8],
       [7, 7, 9, 7, 0, 2, 8, 3, 1, 1],
       [9, 5, 8, 3, 1, 7, 8, 9, 3, 6],
       [8, 9, 0, 8, 4, 4, 6, 2, 1, 3],
       [7, 3, 8, 0, 2, 9, 8, 1, 5, 8],
       [7, 6, 6, 8, 9, 9, 0, 4, 2, 9],
       [8, 6, 0, 9, 1, 0, 4, 3, 4, 5],
       [6, 5, 4, 6, 1, 4, 0, 2, 7, 1]])
In [653]:
a[2:8,5] = 42

a
Out[653]:
array([[ 2,  5,  0,  5,  3,  6,  9,  8,  3,  4],
       [ 2,  8,  7,  6,  3,  3,  0,  8,  1,  6],
       [ 0,  3,  6,  5,  6, 42,  2,  1,  2,  8],
       [ 7,  7,  9,  7,  0, 42,  8,  3,  1,  1],
       [ 9,  5,  8,  3,  1, 42,  8,  9,  3,  6],
       [ 8,  9,  0,  8,  4, 42,  6,  2,  1,  3],
       [ 7,  3,  8,  0,  2, 42,  8,  1,  5,  8],
       [ 7,  6,  6,  8,  9, 42,  0,  4,  2,  9],
       [ 8,  6,  0,  9,  1,  0,  4,  3,  4,  5],
       [ 6,  5,  4,  6,  1,  4,  0,  2,  7,  1]])
In [655]:
a[1:5,7]
Out[655]:
array([8, 1, 3, 9])
In [658]:
a[2:-1:2,1:3] = 15
a
Out[658]:
array([[ 2,  5,  0,  5,  3,  6,  9,  8,  3,  4],
       [ 2,  8,  7,  6,  3,  3,  0,  8,  1,  6],
       [ 0, 15, 15,  5,  6, 42,  2,  1,  2,  8],
       [ 7, 90, 90,  7,  0, 42,  8,  3,  1,  1],
       [ 9, 15, 15,  3,  1, 42,  8,  9,  3,  6],
       [ 8, 90, 90,  8,  4, 42,  6,  2,  1,  3],
       [ 7, 15, 15,  0,  2, 42,  8,  1,  5,  8],
       [ 7, 90, 90,  8,  9, 42,  0,  4,  2,  9],
       [ 8, 15, 15,  9,  1,  0,  4,  3,  4,  5],
       [ 6,  5,  4,  6,  1,  4,  0,  2,  7,  1]])
In [659]:
a[[1,2,4],[1,3,5]] = 1000

a
Out[659]:
array([[   2,    5,    0,    5,    3,    6,    9,    8,    3,    4],
       [   2, 1000,    7,    6,    3,    3,    0,    8,    1,    6],
       [   0,   15,   15, 1000,    6,   42,    2,    1,    2,    8],
       [   7,   90,   90,    7,    0,   42,    8,    3,    1,    1],
       [   9,   15,   15,    3,    1, 1000,    8,    9,    3,    6],
       [   8,   90,   90,    8,    4,   42,    6,    2,    1,    3],
       [   7,   15,   15,    0,    2,   42,    8,    1,    5,    8],
       [   7,   90,   90,    8,    9,   42,    0,    4,    2,    9],
       [   8,   15,   15,    9,    1,    0,    4,    3,    4,    5],
       [   6,    5,    4,    6,    1,    4,    0,    2,    7,    1]])
In [660]:
b = np.random.randint(0,10,[3,3])

b
Out[660]:
array([[5, 6, 6],
       [7, 9, 3],
       [9, 9, 1]])
In [662]:
b[[True,True,False],[False,True,False]] = 42

b
Out[662]:
array([[ 5, 42,  6],
       [ 7, 42,  3],
       [ 9,  9,  1]])
In [663]:
b > 10
Out[663]:
array([[False,  True, False],
       [False,  True, False],
       [False, False, False]])
In [665]:
b[b > 10] = -42
In [666]:
b
Out[666]:
array([[  5, -42,   6],
       [  7, -42,   3],
       [  9,   9,   1]])
In [669]:
(b < 0).sum()
Out[669]:
2
In [670]:
a
Out[670]:
array([[   2,    5,    0,    5,    3,    6,    9,    8,    3,    4],
       [   2, 1000,    7,    6,    3,    3,    0,    8,    1,    6],
       [   0,   15,   15, 1000,    6,   42,    2,    1,    2,    8],
       [   7,   90,   90,    7,    0,   42,    8,    3,    1,    1],
       [   9,   15,   15,    3,    1, 1000,    8,    9,    3,    6],
       [   8,   90,   90,    8,    4,   42,    6,    2,    1,    3],
       [   7,   15,   15,    0,    2,   42,    8,    1,    5,    8],
       [   7,   90,   90,    8,    9,   42,    0,    4,    2,    9],
       [   8,   15,   15,    9,    1,    0,    4,    3,    4,    5],
       [   6,    5,    4,    6,    1,    4,    0,    2,    7,    1]])
Views
In [671]:
b = a[2:6,2:6]

b
Out[671]:
array([[  15, 1000,    6,   42],
       [  90,    7,    0,   42],
       [  15,    3,    1, 1000],
       [  90,    8,    4,   42]])
In [672]:
b[0,0] = 999

b
Out[672]:
array([[ 999, 1000,    6,   42],
       [  90,    7,    0,   42],
       [  15,    3,    1, 1000],
       [  90,    8,    4,   42]])
In [673]:
a
Out[673]:
array([[   2,    5,    0,    5,    3,    6,    9,    8,    3,    4],
       [   2, 1000,    7,    6,    3,    3,    0,    8,    1,    6],
       [   0,   15,  999, 1000,    6,   42,    2,    1,    2,    8],
       [   7,   90,   90,    7,    0,   42,    8,    3,    1,    1],
       [   9,   15,   15,    3,    1, 1000,    8,    9,    3,    6],
       [   8,   90,   90,    8,    4,   42,    6,    2,    1,    3],
       [   7,   15,   15,    0,    2,   42,    8,    1,    5,    8],
       [   7,   90,   90,    8,    9,   42,    0,    4,    2,    9],
       [   8,   15,   15,    9,    1,    0,    4,    3,    4,    5],
       [   6,    5,    4,    6,    1,    4,    0,    2,    7,    1]])
In [674]:
a is b
Out[674]:
False
In [680]:
a = np.array([[1,2],[3,4],[5,6]])
b = np.array([[10,20],[30,40],[50,60]])

np.concatenate((a,b),axis=1)
Out[680]:
array([[ 1,  2, 10, 20],
       [ 3,  4, 30, 40],
       [ 5,  6, 50, 60]])
In [682]:
c = np.empty([a.shape[0],a.shape[1]+b.shape[1]],dtype=np.int32)

c[:a.shape[0],:a.shape[1]] = a.copy()
c[:b.shape[0],a.shape[1]:] = b.copy()

c
Out[682]:
array([[ 1,  2, 10, 20],
       [ 3,  4, 30, 40],
       [ 5,  6, 50, 60]])
Funções unitárias
In [683]:
d = np.array([1,-1])

np.abs(d)
Out[683]:
array([1, 1])
In [684]:
d = np.array([1.5,-1.5])

np.fabs(d)
Out[684]:
array([1.5, 1.5])
In [685]:
np.floor(d)
Out[685]:
array([ 1., -2.])
In [686]:
np.ceil(d)
Out[686]:
array([ 2., -1.])
In [687]:
np.rint(d)
Out[687]:
array([ 2., -2.])
In [691]:
np.modf(d)
Out[691]:
(array([ 0.5, -0.5]), array([ 1., -1.]))
In [695]:
e = np.array([1,np.inf,3,np.nan,5])

e
Out[695]:
array([ 1., inf,  3., nan,  5.])
In [696]:
np.isnan(e).sum()
Out[696]:
1
In [698]:
np.isinf(e).sum()
Out[698]:
1
In [699]:
np.sqrt(e)
Out[699]:
array([1.        ,        inf, 1.73205081,        nan, 2.23606798])
In [700]:
np.sin(e)
<ipython-input-700-328dffc13c69>:1: RuntimeWarning: invalid value encountered in sin
  np.sin(e)
Out[700]:
array([ 0.84147098,         nan,  0.14112001,         nan, -0.95892427])
Funções binárias
In [701]:
a
Out[701]:
array([[1, 2],
       [3, 4],
       [5, 6]])
In [702]:
b
Out[702]:
array([[10, 20],
       [30, 40],
       [50, 60]])
In [705]:
np.minimum(a,b)
Out[705]:
array([[1, 2],
       [3, 4],
       [5, 6]])
In [708]:
np.fmax(a.astype('f4'),b.astype('f4'))
Out[708]:
array([[10., 20.],
       [30., 40.],
       [50., 60.]], dtype=float32)
In [709]:
np.fmin(a.astype('f4'),b.astype('f4'))
Out[709]:
array([[1., 2.],
       [3., 4.],
       [5., 6.]], dtype=float32)
In [712]:
a / b
Out[712]:
array([[0.1, 0.1],
       [0.1, 0.1],
       [0.1, 0.1]])
In [713]:
np.floor_divide(a,b)
Out[713]:
array([[0, 0],
       [0, 0],
       [0, 0]], dtype=int32)
Funções estatísticas
In [715]:
a.mean(axis=0)
Out[715]:
array([3., 4.])
In [716]:
a.mean(axis=1)
Out[716]:
array([1.5, 3.5, 5.5])
In [720]:
a.cumsum(axis=1)
Out[720]:
array([[ 1,  3],
       [ 3,  7],
       [ 5, 11]], dtype=int32)
In [721]:
a.std(axis=0)
Out[721]:
array([1.63299316, 1.63299316])
In [724]:
a.var(axis=1)
Out[724]:
array([0.25, 0.25, 0.25])
In [725]:
a.min(axis=1)
Out[725]:
array([1, 3, 5])
In [727]:
a.max(axis=0)
Out[727]:
array([5, 6])
In [730]:
a = np.array([[7,2],[3,7],[9,1]])
In [731]:
a
Out[731]:
array([[7, 2],
       [3, 7],
       [9, 1]])
Ordenação
In [732]:
a.sort()
In [733]:
a
Out[733]:
array([[2, 7],
       [3, 7],
       [1, 9]])
In [745]:
a = np.random.randint(0,10,[10])

a.sort()

a
Out[745]:
array([2, 3, 3, 3, 6, 7, 7, 8, 9, 9])
In [746]:
a[int(0.2 * len(a))]
Out[746]:
3
In [748]:
a = np.random.randint(0,10,[10])

a
Out[748]:
array([3, 8, 5, 4, 8, 0, 1, 0, 6, 3])
In [749]:
a.argsort()
Out[749]:
array([5, 7, 6, 0, 9, 3, 2, 8, 1, 4], dtype=int64)
In [751]:
b = np.random.randint(0,10,[5,5])

b
Out[751]:
array([[5, 1, 1, 7, 0],
       [7, 8, 8, 5, 1],
       [6, 1, 9, 4, 7],
       [9, 4, 1, 3, 0],
       [8, 9, 6, 1, 6]])
In [752]:
b[:,1].argsort()
Out[752]:
array([0, 2, 3, 1, 4], dtype=int64)
In [754]:
b[b[:,1].argsort()[::-1]]
Out[754]:
array([[8, 9, 6, 1, 6],
       [7, 8, 8, 5, 1],
       [9, 4, 1, 3, 0],
       [6, 1, 9, 4, 7],
       [5, 1, 1, 7, 0]])
In [755]:
np.unique(b)
Out[755]:
array([0, 1, 3, 4, 5, 6, 7, 8, 9])
Funções algébricas
In [758]:
from numpy import linalg

linalg.inv(b)
Out[758]:
array([[-0.0843145 , -0.03120094,  0.0527865 ,  0.19714809, -0.05638409],
       [ 0.06410256,  0.03846154, -0.11538462, -0.1025641 ,  0.12820513],
       [-0.13886709,  0.13402669,  0.08771586,  0.02524856, -0.12467295],
       [ 0.21376243, -0.00235479, -0.03375196, -0.12977499,  0.03976975],
       [ 0.11950549, -0.14972527,  0.0206044 , -0.11263736,  0.16758242]])
In [762]:
f = b @ np.ones([5,1])

f
Out[762]:
array([[14.],
       [29.],
       [27.],
       [17.],
       [30.]])
In [763]:
linalg.solve(b,f)
Out[763]:
array([[1.],
       [1.],
       [1.],
       [1.],
       [1.]])
In [768]:
b.dot(b)
Out[768]:
array([[101,  42,  29,  65,   8],
       [192, 108, 154, 137,  70],
       [183, 102, 141, 102, 106],
       [106,  54,  53,  96,  11],
       [196, 144, 171, 134,  87]])
Persistência em disco
In [769]:
np.save("matriz",b)
In [770]:
np.load("matriz.npy")
Out[770]:
array([[5, 1, 1, 7, 0],
       [7, 8, 8, 5, 1],
       [6, 1, 9, 4, 7],
       [9, 4, 1, 3, 0],
       [8, 9, 6, 1, 6]])
